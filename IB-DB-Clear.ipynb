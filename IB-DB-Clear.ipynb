{
 "cells": [
  {
   "cell_type": "code",
   "execution_count": 1,
   "metadata": {},
   "outputs": [
    {
     "name": "stdout",
     "output_type": "stream",
     "text": [
      "Datenbank:  {Microsoft Access Driver (*.mdb, *.accdb)}   .\\ib.accdb\n",
      "Tabelle trades vor Löschen: 307  \n",
      "Tabelle trades nach Löschen: 0\n",
      " \n",
      "Tabelle statements vor Löschen: 688  \n",
      "Tabelle statements nach Löschen: 0\n",
      " \n",
      "Tabelle taxstatements vor Löschen: 287  \n",
      "Tabelle taxstatements nach Löschen: 0\n",
      " \n",
      "Tabelle openPositions vor Löschen: 37  \n",
      "Tabelle openPositions nach Löschen: 0\n",
      " \n",
      "Tabelle closedPositions vor Löschen: 125  \n",
      "Tabelle closedPositions nach Löschen: 0\n",
      " \n"
     ]
    }
   ],
   "source": [
    "# 07.07.23 BG - Löschen aller Tabellen \n",
    "# --------- Start des Programms --------------------------\n",
    "\n",
    "import pyodbc  # Datenbankanbindung an Access \n",
    "\n",
    "\n",
    "def databaseDelete ( tabelle):\n",
    "    sql= f\"DELETE FROM {tabelle}\"\n",
    "    dbCursor.execute (sql) \n",
    "\n",
    "def getAnzahl (tabelle):\n",
    "    sql = f\"SELECT count(*) AS anzahl FROM {tabelle}\"\n",
    "    #print (  sql )\n",
    "    dbCursor.execute ( sql) \n",
    "    zeile = dbCursor.fetchone ()\n",
    "    #print ( zeile )\n",
    "    anzahl = zeile.anzahl \n",
    "    return anzahl \n",
    "\n",
    "def databaseClear ( tabelle ):\n",
    "    anzahl = getAnzahl ( tabelle )\n",
    "    print (f\"Tabelle {tabelle} vor Löschen: {anzahl}  \")\n",
    "    databaseDelete ( tabelle)\n",
    "    anzahl = getAnzahl ( tabelle )\n",
    "    print (f\"Tabelle {tabelle} nach Löschen: {anzahl}\")\n",
    "    print ( \" \")\n",
    "\n",
    "# --------- Start des Programms --------------------------\n",
    "\n",
    "#Datenbank öffnen \n",
    "# Verbindung zur Access-Datenbank herstellen\n",
    "DBdatenbank = \".\\ib.accdb\"\n",
    "DBdriver=\"{Microsoft Access Driver (*.mdb, *.accdb)}\"\n",
    "print (\"Datenbank: \", DBdriver , \" \", DBdatenbank )\n",
    "\n",
    "dbConn = pyodbc.connect(r'Driver={Microsoft Access Driver (*.mdb, *.accdb)};DBQ=.\\ib.accdb;')\n",
    "\n",
    "# Cursor-Objekt erstellen\n",
    "dbCursor = dbConn.cursor()\n",
    "\n",
    "#alle Daten löschen \n",
    "databaseClear ( \"trades\" )\n",
    "databaseClear ( \"statements\" )\n",
    "databaseClear ( \"taxstatements\" )\n",
    "databaseClear ( \"openPositions\" )\n",
    "databaseClear ( \"closedPositions\" )\n",
    "\n",
    "dbConn.commit()\n",
    "dbConn.close () \n",
    "\n",
    "\n",
    "\n"
   ]
  }
 ],
 "metadata": {
  "kernelspec": {
   "display_name": "Python 3",
   "language": "python",
   "name": "python3"
  },
  "language_info": {
   "codemirror_mode": {
    "name": "ipython",
    "version": 3
   },
   "file_extension": ".py",
   "mimetype": "text/x-python",
   "name": "python",
   "nbconvert_exporter": "python",
   "pygments_lexer": "ipython3",
   "version": "3.11.2"
  },
  "orig_nbformat": 4
 },
 "nbformat": 4,
 "nbformat_minor": 2
}
